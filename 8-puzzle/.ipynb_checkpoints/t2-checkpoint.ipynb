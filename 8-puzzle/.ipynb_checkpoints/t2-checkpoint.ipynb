{
 "cells": [
  {
   "cell_type": "markdown",
   "id": "6c7ff271-9099-4745-84ac-044dc70fb5e3",
   "metadata": {},
   "source": [
    "# **امیرمحمد رمضان نادری-610398126**"
   ]
  },
  {
   "cell_type": "markdown",
   "id": "8898f02d-4836-4449-badd-876714c45b28",
   "metadata": {},
   "source": [
    "<div id=\"sec_intro\" style=\"direction:rtl;line-height:300%;\">\n",
    "\t<font face=\"XB Zar\" size=3>\n",
    "\t\t<p></p>\n",
    "        <strong>states:</strong> ب"
   ]
  },
  {
   "cell_type": "code",
   "execution_count": 310,
   "id": "05fce840-92d0-40ab-88bf-e9ee216f544c",
   "metadata": {},
   "outputs": [],
   "source": [
    "from copy import deepcopy\n",
    "\n",
    "class Puzzle:\n",
    "    \n",
    "    def __init__(self, start):\n",
    "        self.start = start\n",
    "        self.expand_children = self.neighbors()\n",
    "        self.parent = None\n",
    "        self.h_n = 0\n",
    "        self.g_n = 0\n",
    "        self.f_n = self.g_n + self.h_n\n",
    "\n",
    "    def neighbors(self):\n",
    "        \n",
    "        results = []\n",
    "        expand_children = []\n",
    "        row = 0\n",
    "        col = 0\n",
    "        for i in range(3):\n",
    "            for j in range(3):\n",
    "                if self.start[i][j] == 0:\n",
    "                    row = i\n",
    "                    col = j\n",
    "        \n",
    "        if row > 0:\n",
    "            mat1 = deepcopy(self.start)\n",
    "            mat1[row][col] = mat1[row - 1][col]\n",
    "            mat1[row - 1][col] = 0\n",
    "            expand_children.append(mat1)\n",
    "            results.append(('up', mat1))\n",
    "        if col > 0:\n",
    "            mat1 = deepcopy(self.start)\n",
    "            mat1[row][col] = mat1[row][col - 1]\n",
    "            mat1[row][col - 1] = 0\n",
    "            expand_children.append(mat1)\n",
    "            results.append(('left', mat1))\n",
    "        if row < 2:\n",
    "            mat1 = deepcopy(self.start)\n",
    "            mat1[row][col] = mat1[row + 1][col]\n",
    "            mat1[row + 1][col] = 0\n",
    "            expand_children.append(mat1)\n",
    "            results.append(('down', mat1))\n",
    "        if col < 2:\n",
    "            mat1 = deepcopy(self.start)\n",
    "            mat1[row][col] = mat1[row][col + 1]\n",
    "            mat1[row][col + 1] = 0\n",
    "            expand_children.append(mat1)\n",
    "            results.append(('right', mat1))\n",
    "\n",
    "        return results, expand_children   \n",
    "    \n",
    "    def __repr__(self) -> str:\n",
    "        return str(self.start)\n",
    "    \n",
    "    def __eq__(self, other):\n",
    "        return self.start == other.start\n",
    "    \n",
    "    def get_hn(self):  #manhattan\n",
    "\n",
    "        tmp = []\n",
    "        for lst in self.start:\n",
    "            for i in lst:\n",
    "                tmp.append(i)\n",
    "\n",
    "        manhattan = 0\n",
    "        for i in range(len(tmp)):\n",
    "            manhattan += abs(int(i/3) - (tmp[i]-1)//3) + abs(i%3 - (tmp[i]-1)%3)\n",
    "        self.h_n = manhattan\n",
    "    "
   ]
  },
  {
   "cell_type": "code",
   "execution_count": 311,
   "id": "2ef07c6f-8a78-4230-a4d1-3c1b1dd7f24c",
   "metadata": {},
   "outputs": [
    {
     "data": {
      "text/plain": [
       "[('up', [[1, 6, 0], [5, 3, 2], [4, 7, 8]]),\n",
       " ('left', [[1, 6, 2], [5, 0, 3], [4, 7, 8]]),\n",
       " ('down', [[1, 6, 2], [5, 3, 8], [4, 7, 0]])]"
      ]
     },
     "execution_count": 311,
     "metadata": {},
     "output_type": "execute_result"
    }
   ],
   "source": [
    "obj = Puzzle([[1,6,2],[5,3,0],[4,7,8]])\n",
    "goal_obj = Puzzle([[1,2,3],[4,5,6],[7,8,0]])\n",
    "obj.neighbors()[0]"
   ]
  },
  {
   "cell_type": "code",
   "execution_count": 417,
   "id": "ea0e9a56-2ec0-4b0f-a8bd-8a844b79bbb5",
   "metadata": {},
   "outputs": [],
   "source": [
    "def A_star(lst):\n",
    "    \n",
    "    Q = [lst]\n",
    "    visited = []\n",
    "    while len(Q) != 0:\n",
    "        \n",
    "        expand_child = Q.pop(0)\n",
    "        if expand_child == goal_obj:\n",
    "            visited.append(expand_child)\n",
    "            last_node = visited[-1]\n",
    "            represent = last_node.start\n",
    "            while last_node != lst:\n",
    "                represent.append(last_node.parent.start)\n",
    "                last_node = last_node.parent\n",
    "            return represent\n",
    "        \n",
    "        for child in expand_child.expand_children[1]:\n",
    "            child_obj = Puzzle(child)\n",
    "            child_obj.parent = expand_child\n",
    "            child_obj.g_n = child_obj.parent.g_n + 1\n",
    "            child_obj.get_hn()\n",
    "            child_obj.f_n = child_obj.h_n + child_obj.g_n\n",
    "            if child_obj not in visited:\n",
    "                c = 0\n",
    "                for st in Q:\n",
    "                    if st.f_n > child_obj.f_n:\n",
    "                        break\n",
    "                    c +=1\n",
    "                Q.insert(c, child_obj)\n",
    "                visited.append(child_obj)"
   ]
  },
  {
   "cell_type": "code",
   "execution_count": 418,
   "id": "d4e892f9-b79a-48a4-b92f-24c112773ebe",
   "metadata": {},
   "outputs": [],
   "source": [
    "test_obj = Puzzle([[2,5,3],[4,1,6],[0,7,8]])"
   ]
  },
  {
   "cell_type": "code",
   "execution_count": 420,
   "id": "05828ae0-c8bb-4871-ab0b-f7283fe40abd",
   "metadata": {},
   "outputs": [],
   "source": [
    "represent = A_star(test_obj)"
   ]
  },
  {
   "cell_type": "code",
   "execution_count": 421,
   "id": "67937c62-7a23-4291-aea9-43ff608492c8",
   "metadata": {},
   "outputs": [
    {
     "data": {
      "text/plain": [
       "[[[2, 5, 3], [4, 1, 6], [0, 7, 8]],\n",
       " [[2, 5, 3], [0, 1, 6], [4, 7, 8]],\n",
       " [[2, 5, 3], [1, 0, 6], [4, 7, 8]],\n",
       " [[2, 0, 3], [1, 5, 6], [4, 7, 8]],\n",
       " [[0, 2, 3], [1, 5, 6], [4, 7, 8]],\n",
       " [[1, 2, 3], [0, 5, 6], [4, 7, 8]],\n",
       " [[1, 2, 3], [4, 5, 6], [0, 7, 8]],\n",
       " [[1, 2, 3], [4, 5, 6], [7, 0, 8]],\n",
       " [7, 8, 0],\n",
       " [4, 5, 6],\n",
       " [1, 2, 3]]"
      ]
     },
     "execution_count": 421,
     "metadata": {},
     "output_type": "execute_result"
    }
   ],
   "source": [
    "represent.reverse()\n",
    "represent"
   ]
  },
  {
   "cell_type": "code",
   "execution_count": 424,
   "id": "3b66c7e5-8942-4159-97e0-828b01660b32",
   "metadata": {},
   "outputs": [],
   "source": [
    "def UCS(lst):\n",
    "    Q = [lst]\n",
    "    visited = []\n",
    "    while len(Q) != 0:\n",
    "        \n",
    "        expand_child = Q.pop(0)\n",
    "        if expand_child == goal_obj:\n",
    "            visited.append(expand_child)\n",
    "            last_node = visited[-1]\n",
    "            represent = last_node.start\n",
    "            while last_node != lst:\n",
    "                represent.append(last_node.parent.start)\n",
    "                last_node = last_node.parent\n",
    "            return represent\n",
    "        \n",
    "        for child in expand_child.expand_children[1]:\n",
    "            child_obj = Puzzle(child)\n",
    "            child_obj.parent = expand_child\n",
    "            child_obj.g_n = child_obj.parent.g_n + 1\n",
    "            child_obj.h_n = 0\n",
    "            child_obj.f_n = child_obj.h_n + child_obj.g_n\n",
    "            if child_obj not in visited:\n",
    "                c = 0\n",
    "                for st in Q:\n",
    "                    if st.f_n > child_obj.f_n:\n",
    "                        break\n",
    "                    c +=1\n",
    "                Q.insert(c, child_obj)\n",
    "                visited.append(child_obj)"
   ]
  },
  {
   "cell_type": "code",
   "execution_count": 425,
   "id": "b657a859-acdc-4940-998e-f0b24791d333",
   "metadata": {},
   "outputs": [
    {
     "data": {
      "text/plain": [
       "[[[2, 5, 3], [4, 1, 6], [0, 7, 8]],\n",
       " [[2, 5, 3], [0, 1, 6], [4, 7, 8]],\n",
       " [[2, 5, 3], [1, 0, 6], [4, 7, 8]],\n",
       " [[2, 0, 3], [1, 5, 6], [4, 7, 8]],\n",
       " [[0, 2, 3], [1, 5, 6], [4, 7, 8]],\n",
       " [[1, 2, 3], [0, 5, 6], [4, 7, 8]],\n",
       " [[1, 2, 3], [4, 5, 6], [0, 7, 8]],\n",
       " [[1, 2, 3], [4, 5, 6], [7, 0, 8]],\n",
       " [7, 8, 0],\n",
       " [4, 5, 6],\n",
       " [1, 2, 3]]"
      ]
     },
     "execution_count": 425,
     "metadata": {},
     "output_type": "execute_result"
    }
   ],
   "source": [
    "represent = UCS(test_obj)\n",
    "represent.reverse()\n",
    "represent"
   ]
  },
  {
   "cell_type": "code",
   "execution_count": 426,
   "id": "07dd869e-6b58-40eb-9aa5-c13dd0e021c0",
   "metadata": {},
   "outputs": [],
   "source": [
    "def DFS(lst):\n",
    "    \n",
    "    Q = [lst]\n",
    "    visited = []\n",
    "    \n",
    "    while Q:\n",
    "        \n",
    "        expand_child = Q.pop(0)\n",
    "        if expand_child == goal_obj:\n",
    "            visited.append(expand_child)\n",
    "            last_node = visited[-1]\n",
    "            represent = last_node.start\n",
    "            while last_node != lst:\n",
    "                represent.append(last_node.parent.start)\n",
    "                last_node = last_node.parent\n",
    "            return represent\n",
    "            # break\n",
    "            \n",
    "        if expand_child.g_n < 12:\n",
    "            \n",
    "            for child in expand_child.expand_children[1]:\n",
    "                \n",
    "                child_obj = Puzzle(child)\n",
    "                child_obj.parent = expand_child\n",
    "                child_obj.g_n = child_obj.parent.g_n + 1\n",
    "                if child_obj not in visited:\n",
    "                    \n",
    "                    visited.append(child_obj)\n",
    "                    Q.insert(0,child_obj)"
   ]
  },
  {
   "cell_type": "code",
   "execution_count": 427,
   "id": "8100fa92-43ce-41bd-86be-69a8515cc127",
   "metadata": {},
   "outputs": [
    {
     "data": {
      "text/plain": [
       "[[[2, 5, 3], [4, 1, 6], [0, 7, 8]],\n",
       " [[2, 5, 3], [0, 1, 6], [4, 7, 8]],\n",
       " [[0, 5, 3], [2, 1, 6], [4, 7, 8]],\n",
       " [[5, 0, 3], [2, 1, 6], [4, 7, 8]],\n",
       " [[5, 1, 3], [2, 0, 6], [4, 7, 8]],\n",
       " [[5, 1, 3], [0, 2, 6], [4, 7, 8]],\n",
       " [[0, 1, 3], [5, 2, 6], [4, 7, 8]],\n",
       " [[1, 0, 3], [5, 2, 6], [4, 7, 8]],\n",
       " [[1, 2, 3], [5, 0, 6], [4, 7, 8]],\n",
       " [[1, 2, 3], [0, 5, 6], [4, 7, 8]],\n",
       " [[1, 2, 3], [4, 5, 6], [0, 7, 8]],\n",
       " [[1, 2, 3], [4, 5, 6], [7, 0, 8]],\n",
       " [7, 8, 0],\n",
       " [4, 5, 6],\n",
       " [1, 2, 3]]"
      ]
     },
     "execution_count": 427,
     "metadata": {},
     "output_type": "execute_result"
    }
   ],
   "source": [
    "represent = DFS(test_obj)\n",
    "represent.reverse()\n",
    "represent"
   ]
  },
  {
   "cell_type": "code",
   "execution_count": 428,
   "id": "8493c5bf-f540-49de-8ec4-7b1ce59bf8f7",
   "metadata": {},
   "outputs": [],
   "source": [
    "def BFS(lst):\n",
    "    \n",
    "    Q = [lst]\n",
    "    visited = []\n",
    "    \n",
    "    while Q:\n",
    "        \n",
    "        expand_child = Q.pop(0)\n",
    "        if expand_child == goal_obj:\n",
    "            visited.append(expand_child)\n",
    "            last_node = visited[-1]\n",
    "            represent = last_node.start\n",
    "            while last_node != lst:\n",
    "                represent.append(last_node.parent.start)\n",
    "                last_node = last_node.parent\n",
    "            return represent\n",
    "            # break\n",
    "            \n",
    "        for child in expand_child.expand_children[1]:\n",
    "\n",
    "            child_obj = Puzzle(child)\n",
    "            child_obj.parent = expand_child\n",
    "            if child_obj not in visited:\n",
    "\n",
    "                visited.append(child_obj)\n",
    "                Q.append(child_obj)"
   ]
  },
  {
   "cell_type": "code",
   "execution_count": 429,
   "id": "35079186-1cf8-4758-b896-44426eef40b9",
   "metadata": {},
   "outputs": [
    {
     "data": {
      "text/plain": [
       "[[[2, 5, 3], [4, 1, 6], [0, 7, 8]],\n",
       " [[2, 5, 3], [0, 1, 6], [4, 7, 8]],\n",
       " [[2, 5, 3], [1, 0, 6], [4, 7, 8]],\n",
       " [[2, 0, 3], [1, 5, 6], [4, 7, 8]],\n",
       " [[0, 2, 3], [1, 5, 6], [4, 7, 8]],\n",
       " [[1, 2, 3], [0, 5, 6], [4, 7, 8]],\n",
       " [[1, 2, 3], [4, 5, 6], [0, 7, 8]],\n",
       " [[1, 2, 3], [4, 5, 6], [7, 0, 8]],\n",
       " [7, 8, 0],\n",
       " [4, 5, 6],\n",
       " [1, 2, 3]]"
      ]
     },
     "execution_count": 429,
     "metadata": {},
     "output_type": "execute_result"
    }
   ],
   "source": [
    "represent = BFS(test_obj)\n",
    "represent.reverse()\n",
    "represent"
   ]
  },
  {
   "cell_type": "code",
   "execution_count": 430,
   "id": "7ed12f46-a5c9-45f8-9a42-7591ac02c2e5",
   "metadata": {},
   "outputs": [],
   "source": [
    "def DFS_FOR_IDS(lst, d):\n",
    "    \n",
    "    Q = [lst]\n",
    "    visited = []\n",
    "    \n",
    "    while Q:\n",
    "        \n",
    "        expand_child = Q.pop(0)\n",
    "        if expand_child == goal_obj:\n",
    "            visited.append(expand_child)\n",
    "            # last_node = visited[-1]\n",
    "            # represent = last_node.start\n",
    "            # while last_node != state:\n",
    "            #     represent.append(last_node.parent.start)\n",
    "            #     last_node = last_node.parent\n",
    "            # return represent\n",
    "            break\n",
    "            \n",
    "        if expand_child.g_n < d:\n",
    "            \n",
    "            for child in expand_child.expand_children[1]:\n",
    "                \n",
    "                child_obj = Puzzle(child)\n",
    "                child_obj.parent = expand_child\n",
    "                child_obj.g_n = child_obj.parent.g_n + 1\n",
    "                if child_obj not in visited:\n",
    "                    \n",
    "                    visited.append(child_obj)\n",
    "                    Q.insert(0,child_obj)\n",
    "    return visited"
   ]
  },
  {
   "cell_type": "code",
   "execution_count": 431,
   "id": "18c10912-9022-4979-9ad8-dfa91a4afa28",
   "metadata": {},
   "outputs": [],
   "source": [
    "def IDS(lst, d):\n",
    "    for level in range(1, d):\n",
    "        visited = DFS_FOR_IDS(lst, level)\n",
    "        if visited[-1] == goal_obj:\n",
    "            last_node = visited[-1]\n",
    "            represent = last_node.start\n",
    "            while last_node != lst:\n",
    "                represent.append(last_node.parent.start)\n",
    "                last_node = last_node.parent\n",
    "            return represent\n",
    "            # break"
   ]
  },
  {
   "cell_type": "code",
   "execution_count": 432,
   "id": "0e1ee440-e7a2-4e34-8f05-2053e6ecd9bf",
   "metadata": {},
   "outputs": [
    {
     "data": {
      "text/plain": [
       "[[[2, 5, 3], [4, 1, 6], [0, 7, 8]],\n",
       " [[2, 5, 3], [0, 1, 6], [4, 7, 8]],\n",
       " [[2, 5, 3], [1, 0, 6], [4, 7, 8]],\n",
       " [[2, 0, 3], [1, 5, 6], [4, 7, 8]],\n",
       " [[0, 2, 3], [1, 5, 6], [4, 7, 8]],\n",
       " [[1, 2, 3], [0, 5, 6], [4, 7, 8]],\n",
       " [[1, 2, 3], [4, 5, 6], [0, 7, 8]],\n",
       " [[1, 2, 3], [4, 5, 6], [7, 0, 8]],\n",
       " [7, 8, 0],\n",
       " [4, 5, 6],\n",
       " [1, 2, 3]]"
      ]
     },
     "execution_count": 432,
     "metadata": {},
     "output_type": "execute_result"
    }
   ],
   "source": [
    "represent = IDS(test_obj, 50)\n",
    "represent.reverse()\n",
    "represent"
   ]
  },
  {
   "cell_type": "markdown",
   "id": "be9918f2-11ff-41e6-838d-28a17efd71bd",
   "metadata": {},
   "source": [
    "# time and memory for A_star"
   ]
  },
  {
   "cell_type": "code",
   "execution_count": 442,
   "id": "aea68a7e-13bd-4f6a-82c3-8f0858dd3571",
   "metadata": {},
   "outputs": [
    {
     "name": "stdout",
     "output_type": "stream",
     "text": [
      "time is:  0.014364957809448242\n",
      "memory is:  677236\n"
     ]
    }
   ],
   "source": [
    "import time\n",
    "import tracemalloc\n",
    "\n",
    "stime = time.time()\n",
    "tracemalloc.start()\n",
    "A_star(test_obj)\n",
    "memory = tracemalloc.get_traced_memory()[1]\n",
    "end = time.time()\n",
    "\n",
    "print('time is: ', (time.time() - stime))\n",
    "print('memory is: ', memory)"
   ]
  },
  {
   "cell_type": "markdown",
   "id": "af060662-ff02-4647-9fc7-2b09370b8a94",
   "metadata": {},
   "source": [
    "# time and memory for DFS"
   ]
  },
  {
   "cell_type": "code",
   "execution_count": 444,
   "id": "f81e8b9b-c4bc-4dac-adab-9f7242199f4c",
   "metadata": {},
   "outputs": [
    {
     "name": "stdout",
     "output_type": "stream",
     "text": [
      "time is:  0.18935704231262207\n",
      "memory is:  1742204\n"
     ]
    }
   ],
   "source": [
    "stime = time.time()\n",
    "tracemalloc.start()\n",
    "DFS(test_obj)\n",
    "memory = tracemalloc.get_traced_memory()[1]\n",
    "end = time.time()\n",
    "\n",
    "print('time is: ', (time.time() - stime))\n",
    "print('memory is: ', memory)"
   ]
  },
  {
   "cell_type": "markdown",
   "id": "812b6a9f-8cca-4c54-9028-aaf8214703d9",
   "metadata": {},
   "source": [
    "# time and memory for BFS"
   ]
  },
  {
   "cell_type": "code",
   "execution_count": 445,
   "id": "deb155c3-6cfc-4c88-a9da-4f8346b8307d",
   "metadata": {},
   "outputs": [
    {
     "name": "stdout",
     "output_type": "stream",
     "text": [
      "time is:  0.047376155853271484\n",
      "memory is:  1742204\n"
     ]
    }
   ],
   "source": [
    "stime = time.time()\n",
    "tracemalloc.start()\n",
    "BFS(test_obj)\n",
    "memory = tracemalloc.get_traced_memory()[1]\n",
    "end = time.time()\n",
    "\n",
    "print('time is: ', (time.time() - stime))\n",
    "print('memory is: ', memory)"
   ]
  },
  {
   "cell_type": "markdown",
   "id": "d68b3f22-7816-4b9b-9765-1d6d2e07cbad",
   "metadata": {},
   "source": [
    "# time and memory for IDS"
   ]
  },
  {
   "cell_type": "code",
   "execution_count": 446,
   "id": "22ad3508-dec9-4063-a3e0-41431ccbae6f",
   "metadata": {},
   "outputs": [
    {
     "name": "stdout",
     "output_type": "stream",
     "text": [
      "time is:  0.06972908973693848\n",
      "memory is:  1742204\n"
     ]
    }
   ],
   "source": [
    "stime = time.time()\n",
    "tracemalloc.start()\n",
    "IDS(test_obj, 50)\n",
    "memory = tracemalloc.get_traced_memory()[1]\n",
    "end = time.time()\n",
    "\n",
    "print('time is: ', (time.time() - stime))\n",
    "print('memory is: ', memory)"
   ]
  },
  {
   "cell_type": "markdown",
   "id": "2bd0d234-d286-457b-bffa-76fe298afbf5",
   "metadata": {},
   "source": [
    "# time and memory for UCS"
   ]
  },
  {
   "cell_type": "code",
   "execution_count": 447,
   "id": "1b7bf82c-464f-48ff-92b2-98ecbaf18544",
   "metadata": {},
   "outputs": [
    {
     "name": "stdout",
     "output_type": "stream",
     "text": [
      "time is:  0.04918313026428223\n",
      "memory is:  1742204\n"
     ]
    }
   ],
   "source": [
    "stime = time.time()\n",
    "tracemalloc.start()\n",
    "UCS(test_obj)\n",
    "memory = tracemalloc.get_traced_memory()[1]\n",
    "end = time.time()\n",
    "\n",
    "print('time is: ', (time.time() - stime))\n",
    "print('memory is: ', memory)"
   ]
  },
  {
   "cell_type": "code",
   "execution_count": null,
   "id": "b3b6a01b-061e-40ef-8ef7-ea089f0e0210",
   "metadata": {},
   "outputs": [],
   "source": []
  }
 ],
 "metadata": {
  "kernelspec": {
   "display_name": "Python 3 (ipykernel)",
   "language": "python",
   "name": "python3"
  },
  "language_info": {
   "codemirror_mode": {
    "name": "ipython",
    "version": 3
   },
   "file_extension": ".py",
   "mimetype": "text/x-python",
   "name": "python",
   "nbconvert_exporter": "python",
   "pygments_lexer": "ipython3",
   "version": "3.10.2"
  }
 },
 "nbformat": 4,
 "nbformat_minor": 5
}
